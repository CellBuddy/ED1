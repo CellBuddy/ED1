{
 "cells": [
  {
   "cell_type": "markdown",
   "metadata": {},
   "source": [
    "## Asymmetric cryptography\n",
    "Erez Doron, CellBuddy<br>\n",
    "<br>\n",
    "Here we will try to give basic intuition on asymmetric cryptography. why is it called 'Asummetric' ? because we use a different key to encrypt than to decrypt.<br> \n",
    "Note that we try to keep things Simple (vs being Acurate).\n",
    "\n",
    "#### Encrypting\n",
    "Let's say Bob wants to send Alice some data withough Eve Reading it<br>\n",
    "How can this be done ?<br>\n",
    "<br>\n",
    "Actually, it is very simple:<br>\n",
    "\n",
    "##### 1. Alice chooses a pair of keys ( 3 and 7 ) and a modulo ( 10).<br>\n",
    "\n",
    "What is modulo 10 ? it means leaving only the <b>rightmost digit</b><br>\n",
    "10<span style=\"color:green; font-weight: bold;\">3</span> modulo 10 is <span style=\"color:green; font-weight: bold;\">3</span><br>\n",
    "2<span style=\"color:green; font-weight: bold;\">7</span> modulo 10 is <span style=\"color:green; font-weight: bold;\">7</span><br>\n",
    "1<span style=\"color:green; font-weight: bold;\">4</span> modulo 10 is <span style=\"color:green; font-weight: bold;\">4</span><br>\n",
    "\n",
    "##### 2. Alice publishes her public key ( 7 )  and moduo ( 10 )<br>\n",
    "It's ok for everyone (even Eve) to know the public key and modulo.<br>\n",
    "<br>\n",
    "##### 3. Bob encreypts the data<br>\n",
    "Let's say data is 2<br>\n",
    "Bob encrypts by multiplying the data ( 2 ) by the public key ( 7 )<br>\n",
    "2x7=14. modulo 10 -> 4<br>\n",
    "(*) Real encryption is done by raising to a power, in this example we multiply instead, to make it simplear<br>\n",
    "<br>\n",
    "##### 4. Bob sends the Encrypted data ( 4 ) to Alice, Alice decrypys<br>\n",
    "Here the decryption process is the same as the encryption process, <br>\n",
    "The only difference is the key - use private key.<br>\n",
    "How: Alice multiplies the received data ( 4 ) by the private key ( 3 )<br>\n",
    "4 x 3 = 12. module 10 -> 2<br>\n",
    "Alice gets the original data sent by Bob<br>\n",
    "<br>\n",
    "As you can see, we use a different key for Encrypting than the one used for Decrypting. This is why it is called \"Asymmetric\"  Cryptography<br>\n",
    "\n",
    "#### Signing\n",
    "##### 1. Alice signs her data, then publishes the data and the signature<br>\n",
    "To sign, alice encrypt with her private key.<br>\n",
    "Alices takes the data ( 2 ) multiply with the private key ( 3 )<br>\n",
    "2 x 3 = 6. module 10 -> 6<br>\n",
    "6 is the Signature. Note that only Alice, which knows the private key can do that<br>\n",
    "Alice can now publish the dara ( 2 ) and the signature ( 6 )\n",
    "\n",
    "##### 2. Everyone can verify that Alice's signature<br>\n",
    "As everyone knows Alice's public key. anyone can check by decrypting:<br>\n",
    "encrypetd data (6) x public key ( 7 ) = 42. module 10 -> 2<br>\n",
    "which proves it was signed by Alice (which has the private key)<br>\n",
    "\n",
    "#### notes\n",
    "1. As we said before real encryption is done by raising to a power, in this example we multiply instead<br>\n",
    "2. How alice chose the encryption keys ( 3 and 7 ) is outside of the scope of this paper.\n",
    "3. For ease of understanding we decided to take a modulo of 10 (rightmost digit) which is a small number and limits the sise of the keys and makes it easy to break with brute force. in real world examples, vey large numbers are taken as the modulo and private keys (though the public key is usually 65537 but can be a big number too). module of course is the reminder of a division. e.g. 27 is 2 x 10 + 7 -> the remionder is 7. <br>\n",
    "\n",
    "\n"
   ]
  },
  {
   "cell_type": "code",
   "execution_count": null,
   "metadata": {},
   "outputs": [],
   "source": []
  }
 ],
 "metadata": {
  "kernelspec": {
   "display_name": "Python 3",
   "language": "python",
   "name": "python3"
  },
  "language_info": {
   "codemirror_mode": {
    "name": "ipython",
    "version": 3
   },
   "file_extension": ".py",
   "mimetype": "text/x-python",
   "name": "python",
   "nbconvert_exporter": "python",
   "pygments_lexer": "ipython3",
   "version": "3.5.2"
  }
 },
 "nbformat": 4,
 "nbformat_minor": 2
}
