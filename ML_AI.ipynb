{
 "cells": [
  {
   "cell_type": "markdown",
   "metadata": {},
   "source": [
    "<div style=\"direction: rtl; width=100%;text-align:right;\">\n",
    "\n",
    "# למידת מכונה/אינטיליגנציה מלאכותית  - המדריך הפרקטי\n",
    "--------------------------------------\n",
    "###### ארז דורון, סל באדי\n",
    "\n",
    "\n",
    "\n",
    "###### למידת מכונה הינו תחום מרתק בו המחשב לומד לפתור בעיות בעצמו. בין אם בעזרתנו (supervised) ובין אם לבד (unsupervised), ישנם שיטות רבות - מרגרסיה ליניארית ועד רשתות נוירונים עמוקות. זהו תחום ענק אשר ניתן ללמוד במשך שנים. אנו ננסה פה להכנס ישר למים וללמוד תוך כדי.\n",
    "\n",
    "\n",
    "## 1. [מבוא:](ML_AI 1 - Intro.ipynb)\n",
    "###### נושאים:\n",
    "###### TensorFlow\n",
    "###### שפת Python\n",
    "###### IPython notebook\n",
    "###### Google Colab - פיתוח בענן ללא צורך בהתקנה\n",
    "###### Simple Linear regression\n",
    "\n",
    "\n",
    "</div >"
   ]
  },
  {
   "cell_type": "code",
   "execution_count": null,
   "metadata": {},
   "outputs": [],
   "source": []
  }
 ],
 "metadata": {
  "kernelspec": {
   "display_name": "Python 3",
   "language": "python",
   "name": "python3"
  },
  "language_info": {
   "codemirror_mode": {
    "name": "ipython",
    "version": 3
   },
   "file_extension": ".py",
   "mimetype": "text/x-python",
   "name": "python",
   "nbconvert_exporter": "python",
   "pygments_lexer": "ipython3",
   "version": "3.5.2"
  }
 },
 "nbformat": 4,
 "nbformat_minor": 2
}
